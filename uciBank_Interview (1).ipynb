{
 "cells": [
  {
   "cell_type": "markdown",
   "id": "48a3f25d-5eab-4780-95a5-6e6c6d2d028d",
   "metadata": {},
   "source": [
    "## import Libraries"
   ]
  },
  {
   "cell_type": "code",
   "execution_count": 2,
   "id": "b465b251-f98e-49ca-a928-1f2c125f8487",
   "metadata": {},
   "outputs": [],
   "source": [
    "import pandas as pd\n",
    "import numpy as np\n",
    "import seaborn as sns\n",
    "import matplotlib.pyplot as plt"
   ]
  },
  {
   "cell_type": "markdown",
   "id": "7df8bcc7-d90a-4d65-bbeb-cba674ab2e93",
   "metadata": {},
   "source": [
    "LOAD THE DATA"
   ]
  },
  {
   "cell_type": "code",
   "execution_count": 3,
   "id": "398ebce3-3f64-4ea4-a72b-76e12b8e5552",
   "metadata": {},
   "outputs": [],
   "source": [
    "uci_bankData=pd.read_csv('bank-full-Interview.csv')"
   ]
  },
  {
   "cell_type": "code",
   "execution_count": 4,
   "id": "c5c7231e-8639-4a1c-b398-6db80bd340b8",
   "metadata": {},
   "outputs": [
    {
     "data": {
      "text/plain": [
       "8417"
      ]
     },
     "execution_count": 4,
     "metadata": {},
     "output_type": "execute_result"
    }
   ],
   "source": [
    "len(uci_bankData)"
   ]
  },
  {
   "cell_type": "markdown",
   "id": "b4d1cc67-d3b8-43f4-a48f-cdd00fe88c50",
   "metadata": {},
   "source": [
    "Viewing the Data only Top few rows"
   ]
  },
  {
   "cell_type": "code",
   "execution_count": 5,
   "id": "f5d10317-b8e7-413a-bbbd-a7615977da66",
   "metadata": {},
   "outputs": [
    {
     "data": {
      "text/html": [
       "<div>\n",
       "<style scoped>\n",
       "    .dataframe tbody tr th:only-of-type {\n",
       "        vertical-align: middle;\n",
       "    }\n",
       "\n",
       "    .dataframe tbody tr th {\n",
       "        vertical-align: top;\n",
       "    }\n",
       "\n",
       "    .dataframe thead th {\n",
       "        text-align: right;\n",
       "    }\n",
       "</style>\n",
       "<table border=\"1\" class=\"dataframe\">\n",
       "  <thead>\n",
       "    <tr style=\"text-align: right;\">\n",
       "      <th></th>\n",
       "      <th>age</th>\n",
       "      <th>job</th>\n",
       "      <th>marital</th>\n",
       "      <th>education</th>\n",
       "      <th>default</th>\n",
       "      <th>balance</th>\n",
       "      <th>housing</th>\n",
       "      <th>loan</th>\n",
       "      <th>contact</th>\n",
       "      <th>day</th>\n",
       "      <th>month</th>\n",
       "      <th>duration</th>\n",
       "      <th>campaign</th>\n",
       "      <th>pdays</th>\n",
       "      <th>previous</th>\n",
       "      <th>poutcome</th>\n",
       "      <th>y</th>\n",
       "    </tr>\n",
       "  </thead>\n",
       "  <tbody>\n",
       "    <tr>\n",
       "      <th>0</th>\n",
       "      <td>58</td>\n",
       "      <td>management</td>\n",
       "      <td>married</td>\n",
       "      <td>tertiary</td>\n",
       "      <td>no</td>\n",
       "      <td>2143.0</td>\n",
       "      <td>yes</td>\n",
       "      <td>no</td>\n",
       "      <td>unknown</td>\n",
       "      <td>5.0</td>\n",
       "      <td>may</td>\n",
       "      <td>261.0</td>\n",
       "      <td>1.0</td>\n",
       "      <td>-1.0</td>\n",
       "      <td>0.0</td>\n",
       "      <td>unknown</td>\n",
       "      <td>no</td>\n",
       "    </tr>\n",
       "    <tr>\n",
       "      <th>1</th>\n",
       "      <td>44</td>\n",
       "      <td>technician</td>\n",
       "      <td>single</td>\n",
       "      <td>secondary</td>\n",
       "      <td>no</td>\n",
       "      <td>29.0</td>\n",
       "      <td>yes</td>\n",
       "      <td>no</td>\n",
       "      <td>unknown</td>\n",
       "      <td>5.0</td>\n",
       "      <td>may</td>\n",
       "      <td>151.0</td>\n",
       "      <td>1.0</td>\n",
       "      <td>-1.0</td>\n",
       "      <td>0.0</td>\n",
       "      <td>unknown</td>\n",
       "      <td>no</td>\n",
       "    </tr>\n",
       "    <tr>\n",
       "      <th>2</th>\n",
       "      <td>33</td>\n",
       "      <td>entrepreneur</td>\n",
       "      <td>married</td>\n",
       "      <td>secondary</td>\n",
       "      <td>no</td>\n",
       "      <td>2.0</td>\n",
       "      <td>yes</td>\n",
       "      <td>yes</td>\n",
       "      <td>unknown</td>\n",
       "      <td>5.0</td>\n",
       "      <td>may</td>\n",
       "      <td>76.0</td>\n",
       "      <td>1.0</td>\n",
       "      <td>-1.0</td>\n",
       "      <td>0.0</td>\n",
       "      <td>unknown</td>\n",
       "      <td>no</td>\n",
       "    </tr>\n",
       "    <tr>\n",
       "      <th>3</th>\n",
       "      <td>47</td>\n",
       "      <td>blue-collar</td>\n",
       "      <td>married</td>\n",
       "      <td>unknown</td>\n",
       "      <td>no</td>\n",
       "      <td>1506.0</td>\n",
       "      <td>yes</td>\n",
       "      <td>no</td>\n",
       "      <td>unknown</td>\n",
       "      <td>5.0</td>\n",
       "      <td>may</td>\n",
       "      <td>92.0</td>\n",
       "      <td>1.0</td>\n",
       "      <td>-1.0</td>\n",
       "      <td>0.0</td>\n",
       "      <td>unknown</td>\n",
       "      <td>no</td>\n",
       "    </tr>\n",
       "    <tr>\n",
       "      <th>4</th>\n",
       "      <td>33</td>\n",
       "      <td>unknown</td>\n",
       "      <td>single</td>\n",
       "      <td>unknown</td>\n",
       "      <td>no</td>\n",
       "      <td>1.0</td>\n",
       "      <td>no</td>\n",
       "      <td>no</td>\n",
       "      <td>unknown</td>\n",
       "      <td>5.0</td>\n",
       "      <td>may</td>\n",
       "      <td>198.0</td>\n",
       "      <td>1.0</td>\n",
       "      <td>-1.0</td>\n",
       "      <td>0.0</td>\n",
       "      <td>unknown</td>\n",
       "      <td>no</td>\n",
       "    </tr>\n",
       "  </tbody>\n",
       "</table>\n",
       "</div>"
      ],
      "text/plain": [
       "   age           job  marital  education default  balance housing loan  \\\n",
       "0   58    management  married   tertiary      no   2143.0     yes   no   \n",
       "1   44    technician   single  secondary      no     29.0     yes   no   \n",
       "2   33  entrepreneur  married  secondary      no      2.0     yes  yes   \n",
       "3   47   blue-collar  married    unknown      no   1506.0     yes   no   \n",
       "4   33       unknown   single    unknown      no      1.0      no   no   \n",
       "\n",
       "   contact  day month  duration  campaign  pdays  previous poutcome   y  \n",
       "0  unknown  5.0   may     261.0       1.0   -1.0       0.0  unknown  no  \n",
       "1  unknown  5.0   may     151.0       1.0   -1.0       0.0  unknown  no  \n",
       "2  unknown  5.0   may      76.0       1.0   -1.0       0.0  unknown  no  \n",
       "3  unknown  5.0   may      92.0       1.0   -1.0       0.0  unknown  no  \n",
       "4  unknown  5.0   may     198.0       1.0   -1.0       0.0  unknown  no  "
      ]
     },
     "execution_count": 5,
     "metadata": {},
     "output_type": "execute_result"
    }
   ],
   "source": [
    "uci_bankData.head()"
   ]
  },
  {
   "cell_type": "markdown",
   "id": "4d5b544e-5644-4672-ae97-a20f2caf8c13",
   "metadata": {},
   "source": [
    "Dataset Exploration\n",
    "There are 8417 records with 17 fields in this Dataset\n",
    "For this project we will consider y (customers who have term deposits) as the Dependent Field.\n",
    "To predict whether customers will subscribe to Term Deposit , to check whether the bank's cross selling campaign will be justfied."
   ]
  },
  {
   "cell_type": "code",
   "execution_count": 6,
   "id": "8ab1fc70-7a05-440a-8887-8360599460e3",
   "metadata": {},
   "outputs": [
    {
     "name": "stdout",
     "output_type": "stream",
     "text": [
      "<class 'pandas.core.frame.DataFrame'>\n",
      "RangeIndex: 8417 entries, 0 to 8416\n",
      "Data columns (total 17 columns):\n",
      " #   Column     Non-Null Count  Dtype  \n",
      "---  ------     --------------  -----  \n",
      " 0   age        8417 non-null   int64  \n",
      " 1   job        8417 non-null   object \n",
      " 2   marital    8417 non-null   object \n",
      " 3   education  8417 non-null   object \n",
      " 4   default    8416 non-null   object \n",
      " 5   balance    8416 non-null   float64\n",
      " 6   housing    8416 non-null   object \n",
      " 7   loan       8416 non-null   object \n",
      " 8   contact    8416 non-null   object \n",
      " 9   day        8416 non-null   float64\n",
      " 10  month      8416 non-null   object \n",
      " 11  duration   8416 non-null   float64\n",
      " 12  campaign   8416 non-null   float64\n",
      " 13  pdays      8416 non-null   float64\n",
      " 14  previous   8416 non-null   float64\n",
      " 15  poutcome   8416 non-null   object \n",
      " 16  y          8416 non-null   object \n",
      "dtypes: float64(6), int64(1), object(10)\n",
      "memory usage: 1.1+ MB\n"
     ]
    }
   ],
   "source": [
    "uci_bankData.info()"
   ]
  },
  {
   "cell_type": "code",
   "execution_count": 7,
   "id": "e6859ea5-8c4d-4b15-ad57-7d2a192ccfa8",
   "metadata": {},
   "outputs": [
    {
     "data": {
      "text/html": [
       "<div>\n",
       "<style scoped>\n",
       "    .dataframe tbody tr th:only-of-type {\n",
       "        vertical-align: middle;\n",
       "    }\n",
       "\n",
       "    .dataframe tbody tr th {\n",
       "        vertical-align: top;\n",
       "    }\n",
       "\n",
       "    .dataframe thead th {\n",
       "        text-align: right;\n",
       "    }\n",
       "</style>\n",
       "<table border=\"1\" class=\"dataframe\">\n",
       "  <thead>\n",
       "    <tr style=\"text-align: right;\">\n",
       "      <th></th>\n",
       "      <th>age</th>\n",
       "      <th>balance</th>\n",
       "      <th>day</th>\n",
       "      <th>duration</th>\n",
       "      <th>campaign</th>\n",
       "      <th>pdays</th>\n",
       "      <th>previous</th>\n",
       "    </tr>\n",
       "  </thead>\n",
       "  <tbody>\n",
       "    <tr>\n",
       "      <th>count</th>\n",
       "      <td>8417.000000</td>\n",
       "      <td>8416.000000</td>\n",
       "      <td>8416.000000</td>\n",
       "      <td>8416.000000</td>\n",
       "      <td>8416.000000</td>\n",
       "      <td>8416.0</td>\n",
       "      <td>8416.0</td>\n",
       "    </tr>\n",
       "    <tr>\n",
       "      <th>mean</th>\n",
       "      <td>39.373173</td>\n",
       "      <td>1022.954373</td>\n",
       "      <td>16.869653</td>\n",
       "      <td>264.025428</td>\n",
       "      <td>2.569986</td>\n",
       "      <td>-1.0</td>\n",
       "      <td>0.0</td>\n",
       "    </tr>\n",
       "    <tr>\n",
       "      <th>std</th>\n",
       "      <td>9.216843</td>\n",
       "      <td>2470.046375</td>\n",
       "      <td>8.697518</td>\n",
       "      <td>248.076378</td>\n",
       "      <td>2.884647</td>\n",
       "      <td>0.0</td>\n",
       "      <td>0.0</td>\n",
       "    </tr>\n",
       "    <tr>\n",
       "      <th>min</th>\n",
       "      <td>20.000000</td>\n",
       "      <td>-3372.000000</td>\n",
       "      <td>2.000000</td>\n",
       "      <td>0.000000</td>\n",
       "      <td>1.000000</td>\n",
       "      <td>-1.0</td>\n",
       "      <td>0.0</td>\n",
       "    </tr>\n",
       "    <tr>\n",
       "      <th>25%</th>\n",
       "      <td>32.000000</td>\n",
       "      <td>39.000000</td>\n",
       "      <td>9.000000</td>\n",
       "      <td>117.000000</td>\n",
       "      <td>1.000000</td>\n",
       "      <td>-1.0</td>\n",
       "      <td>0.0</td>\n",
       "    </tr>\n",
       "    <tr>\n",
       "      <th>50%</th>\n",
       "      <td>38.000000</td>\n",
       "      <td>328.000000</td>\n",
       "      <td>16.000000</td>\n",
       "      <td>193.000000</td>\n",
       "      <td>2.000000</td>\n",
       "      <td>-1.0</td>\n",
       "      <td>0.0</td>\n",
       "    </tr>\n",
       "    <tr>\n",
       "      <th>75%</th>\n",
       "      <td>46.000000</td>\n",
       "      <td>1049.250000</td>\n",
       "      <td>26.000000</td>\n",
       "      <td>322.000000</td>\n",
       "      <td>3.000000</td>\n",
       "      <td>-1.0</td>\n",
       "      <td>0.0</td>\n",
       "    </tr>\n",
       "    <tr>\n",
       "      <th>max</th>\n",
       "      <td>61.000000</td>\n",
       "      <td>58544.000000</td>\n",
       "      <td>30.000000</td>\n",
       "      <td>3366.000000</td>\n",
       "      <td>63.000000</td>\n",
       "      <td>-1.0</td>\n",
       "      <td>0.0</td>\n",
       "    </tr>\n",
       "  </tbody>\n",
       "</table>\n",
       "</div>"
      ],
      "text/plain": [
       "               age       balance          day     duration     campaign  \\\n",
       "count  8417.000000   8416.000000  8416.000000  8416.000000  8416.000000   \n",
       "mean     39.373173   1022.954373    16.869653   264.025428     2.569986   \n",
       "std       9.216843   2470.046375     8.697518   248.076378     2.884647   \n",
       "min      20.000000  -3372.000000     2.000000     0.000000     1.000000   \n",
       "25%      32.000000     39.000000     9.000000   117.000000     1.000000   \n",
       "50%      38.000000    328.000000    16.000000   193.000000     2.000000   \n",
       "75%      46.000000   1049.250000    26.000000   322.000000     3.000000   \n",
       "max      61.000000  58544.000000    30.000000  3366.000000    63.000000   \n",
       "\n",
       "        pdays  previous  \n",
       "count  8416.0    8416.0  \n",
       "mean     -1.0       0.0  \n",
       "std       0.0       0.0  \n",
       "min      -1.0       0.0  \n",
       "25%      -1.0       0.0  \n",
       "50%      -1.0       0.0  \n",
       "75%      -1.0       0.0  \n",
       "max      -1.0       0.0  "
      ]
     },
     "execution_count": 7,
     "metadata": {},
     "output_type": "execute_result"
    }
   ],
   "source": [
    "uci_bankData.describe()"
   ]
  },
  {
   "cell_type": "code",
   "execution_count": null,
   "id": "2607ef59-d90a-4f9f-87b4-448c4dd756e2",
   "metadata": {},
   "outputs": [],
   "source": [
    "DATA CLEANING/Wrangling"
   ]
  },
  {
   "cell_type": "code",
   "execution_count": null,
   "id": "9369b63b-9e17-4162-a892-5fc467369141",
   "metadata": {},
   "outputs": [],
   "source": [
    "#renaming columns"
   ]
  },
  {
   "cell_type": "code",
   "execution_count": 12,
   "id": "561308eb-10fe-41d6-912c-1fd131bb8f06",
   "metadata": {},
   "outputs": [],
   "source": [
    "uci_bankData=uci_bankData.rename(columns={'duration':'duration of last contact','y':'Has Term Deposit?'})"
   ]
  },
  {
   "cell_type": "code",
   "execution_count": 13,
   "id": "693156c0-c6c6-4c20-a6d9-135c681bc8a1",
   "metadata": {},
   "outputs": [
    {
     "data": {
      "text/plain": [
       "Index(['age', 'job', 'marital', 'education', 'default', 'balance', 'housing',\n",
       "       'loan', 'contact', 'day', 'month', 'duration of last contact',\n",
       "       'campaign', 'pdays', 'previous', 'poutcome', 'Has Term Deposit?'],\n",
       "      dtype='object')"
      ]
     },
     "execution_count": 13,
     "metadata": {},
     "output_type": "execute_result"
    }
   ],
   "source": [
    "uci_bankData.columns"
   ]
  },
  {
   "cell_type": "markdown",
   "id": "ce02d078-c63e-409f-b994-e18413623805",
   "metadata": {},
   "source": [
    "#How many customers have Term Deposit vs how many of them dont have a Term deposit"
   ]
  },
  {
   "cell_type": "code",
   "execution_count": 14,
   "id": "dc89fb8f-8e34-48b0-b979-68716262e7ae",
   "metadata": {},
   "outputs": [
    {
     "data": {
      "text/plain": [
       "age                         False\n",
       "job                         False\n",
       "marital                     False\n",
       "education                   False\n",
       "default                      True\n",
       "balance                      True\n",
       "housing                      True\n",
       "loan                         True\n",
       "contact                      True\n",
       "day                          True\n",
       "month                        True\n",
       "duration of last contact     True\n",
       "campaign                     True\n",
       "pdays                        True\n",
       "previous                     True\n",
       "poutcome                     True\n",
       "Has Term Deposit?            True\n",
       "dtype: bool"
      ]
     },
     "execution_count": 14,
     "metadata": {},
     "output_type": "execute_result"
    }
   ],
   "source": [
    "uci_bankData.isna().any()"
   ]
  },
  {
   "cell_type": "markdown",
   "id": "78db9924-f978-47ff-90f6-535815516fad",
   "metadata": {},
   "source": [
    "Retain only the columns required for Analysis\n",
    "Convert non numerical but binary values (marital status, housing,loan"
   ]
  },
  {
   "cell_type": "markdown",
   "id": "9fc027c1-4f9a-43b8-bf0a-bcd6c3e7dce1",
   "metadata": {},
   "source": [
    "pd.get_dummies(uci_bankData['marital'])"
   ]
  },
  {
   "cell_type": "code",
   "execution_count": 20,
   "id": "a50b86e4-6246-4300-a69b-71b7641191e8",
   "metadata": {},
   "outputs": [
    {
     "data": {
      "text/plain": [
       "np.int64(1)"
      ]
     },
     "execution_count": 20,
     "metadata": {},
     "output_type": "execute_result"
    }
   ],
   "source": [
    "uci_bankData['Has Term Deposit?'].isna().sum()"
   ]
  },
  {
   "cell_type": "code",
   "execution_count": 22,
   "id": "151d0a10-ec79-4878-858e-961752e836bb",
   "metadata": {},
   "outputs": [
    {
     "ename": "SyntaxError",
     "evalue": "invalid syntax (3056577630.py, line 1)",
     "output_type": "error",
     "traceback": [
      "\u001b[1;36m  Cell \u001b[1;32mIn[22], line 1\u001b[1;36m\u001b[0m\n\u001b[1;33m    uci_bankData[].dropna()\u001b[0m\n\u001b[1;37m                 ^\u001b[0m\n\u001b[1;31mSyntaxError\u001b[0m\u001b[1;31m:\u001b[0m invalid syntax\n"
     ]
    }
   ],
   "source": [
    "uci_bankData[].dropna()"
   ]
  },
  {
   "cell_type": "code",
   "execution_count": null,
   "id": "19c87a56-4ec2-4a60-90c6-2e57f2a4465d",
   "metadata": {},
   "outputs": [],
   "source": []
  }
 ],
 "metadata": {
  "kernelspec": {
   "display_name": "Python 3 (ipykernel)",
   "language": "python",
   "name": "python3"
  },
  "language_info": {
   "codemirror_mode": {
    "name": "ipython",
    "version": 3
   },
   "file_extension": ".py",
   "mimetype": "text/x-python",
   "name": "python",
   "nbconvert_exporter": "python",
   "pygments_lexer": "ipython3",
   "version": "3.12.5"
  }
 },
 "nbformat": 4,
 "nbformat_minor": 5
}
